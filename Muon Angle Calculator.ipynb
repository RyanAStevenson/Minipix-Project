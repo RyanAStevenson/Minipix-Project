{
 "cells": [
  {
   "cell_type": "code",
   "execution_count": 1,
   "metadata": {},
   "outputs": [
    {
     "name": "stdout",
     "output_type": "stream",
     "text": [
      "enter first x32\n",
      "enter first y99\n",
      "enter second x210\n",
      "enter second y95\n",
      "enter total3805\n",
      "0.02792569939261241 9.093389235219348 3805\n"
     ]
    }
   ],
   "source": [
    "#I used this to manually calculate the angle and length for Muons that were not cropped out automatically\n",
    "import numpy as np\n",
    "\n",
    "upperx = int(input(\"enter first x\"))\n",
    "uppery = int(input(\"enter first y\"))\n",
    "lowerx = int(input(\"enter second x\"))\n",
    "lowery = int(input(\"enter second y\"))\n",
    "total = int(input(\"enter total\"))\n",
    "x= abs(upperx-lowerx)+1\n",
    "y= abs(uppery-lowery)+1\n",
    "length = np.sqrt(((x*0.05078125)**2)+((y*0.05078125)**2))\n",
    "zenith_angle = np.arctan(y/x)\n",
    "\n",
    "print(str(zenith_angle)+\" \"+ str(length) +\" \"+ str(total))"
   ]
  },
  {
   "cell_type": "markdown",
   "metadata": {},
   "source": [
    "## "
   ]
  },
  {
   "cell_type": "markdown",
   "metadata": {},
   "source": [
    "###### "
   ]
  }
 ],
 "metadata": {
  "kernelspec": {
   "display_name": "Python 3",
   "language": "python",
   "name": "python3"
  },
  "language_info": {
   "codemirror_mode": {
    "name": "ipython",
    "version": 3
   },
   "file_extension": ".py",
   "mimetype": "text/x-python",
   "name": "python",
   "nbconvert_exporter": "python",
   "pygments_lexer": "ipython3",
   "version": "3.8.3"
  }
 },
 "nbformat": 4,
 "nbformat_minor": 4
}
